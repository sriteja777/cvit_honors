{
 "cells": [
  {
   "cell_type": "code",
   "execution_count": 23,
   "metadata": {},
   "outputs": [
    {
     "data": {
      "image/png": "[encoded data removed]",
      "text/plain": [
       "<Figure size 432x288 with 1 Axes>"
      ]
     },
     "metadata": {
      "needs_background": "light"
     },
     "output_type": "display_data"
    }
   ],
   "source": [
    "from math import sqrt, atan2, pi\n",
    "import numpy as np\n",
    "\n",
    "def canny_edge_detector(input_image):\n",
    "    input_pixels = input_image.load()\n",
    "    width = input_image.width\n",
    "    height = input_image.height\n",
    "\n",
    "    # Transform the image to grayscale\n",
    "    grayscaled = compute_grayscale(input_pixels, width, height)\n",
    "\n",
    "    # Blur it to remove noise\n",
    "    blurred = compute_blur(grayscaled, width, height)\n",
    "\n",
    "    # Compute the gradient\n",
    "    gradient, direction = compute_gradient(blurred, width, height)\n",
    "\n",
    "    # Non-maximum suppression\n",
    "    filter_out_non_maximum(gradient, direction, width, height)\n",
    "\n",
    "    # Filter out some edges\n",
    "    keep = filter_strong_edges(gradient, width, height, 20, 25)\n",
    "\n",
    "    return keep\n",
    "\n",
    "\n",
    "def compute_grayscale(input_pixels, width, height):\n",
    "    grayscale = np.empty((width, height))\n",
    "    for x in range(width):\n",
    "        for y in range(height):\n",
    "            pixel = input_pixels[x, y]\n",
    "            grayscale[x, y] = (pixel[0] + pixel[1] + pixel[2]) / 3\n",
    "    return grayscale\n",
    "\n",
    "\n",
    "def compute_blur(input_pixels, width, height):\n",
    "    # Keep coordinate inside image\n",
    "    clip = lambda x, l, u: l if x < l else u if x > u else x\n",
    "\n",
    "    # Gaussian kernel\n",
    "    kernel = np.array([\n",
    "        [1 / 256,  4 / 256,  6 / 256,  4 / 256, 1 / 256],\n",
    "        [4 / 256, 16 / 256, 24 / 256, 16 / 256, 4 / 256],\n",
    "        [6 / 256, 24 / 256, 36 / 256, 24 / 256, 6 / 256],\n",
    "        [4 / 256, 16 / 256, 24 / 256, 16 / 256, 4 / 256],\n",
    "        [1 / 256,  4 / 256,  6 / 256,  4 / 256, 1 / 256]\n",
    "    ])\n",
    "\n",
    "    # Middle of the kernel\n",
    "    offset = len(kernel) // 2\n",
    "\n",
    "    # Compute the blurred image\n",
    "    blurred = np.empty((width, height))\n",
    "    for x in range(width):\n",
    "        for y in range(height):\n",
    "            acc = 0\n",
    "            for a in range(len(kernel)):\n",
    "                for b in range(len(kernel)):\n",
    "                    xn = clip(x + a - offset, 0, width - 1)\n",
    "                    yn = clip(y + b - offset, 0, height - 1)\n",
    "                    acc += input_pixels[xn, yn] * kernel[a, b]\n",
    "            blurred[x, y] = int(acc)\n",
    "    return blurred\n",
    "\n",
    "\n",
    "def compute_gradient(input_pixels, width, height):\n",
    "    gradient = np.zeros((width, height))\n",
    "    direction = np.zeros((width, height))\n",
    "    for x in range(width):\n",
    "        for y in range(height):\n",
    "            if 0 < x < width - 1 and 0 < y < height - 1:\n",
    "                magx = input_pixels[x + 1, y] - input_pixels[x - 1, y]\n",
    "                magy = input_pixels[x, y + 1] - input_pixels[x, y - 1]\n",
    "                gradient[x, y] = sqrt(magx**2 + magy**2)\n",
    "                direction[x, y] = atan2(magy, magx)\n",
    "    return gradient, direction\n",
    "\n",
    "\n",
    "def filter_out_non_maximum(gradient, direction, width, height):\n",
    "    for x in range(1, width - 1):\n",
    "        for y in range(1, height - 1):\n",
    "            angle = direction[x, y] if direction[x, y] >= 0 else direction[x, y] + pi\n",
    "            rangle = round(angle / (pi / 4))\n",
    "            mag = gradient[x, y]\n",
    "            if ((rangle == 0 or rangle == 4) and (gradient[x - 1, y] > mag or gradient[x + 1, y] > mag)\n",
    "                    or (rangle == 1 and (gradient[x - 1, y - 1] > mag or gradient[x + 1, y + 1] > mag))\n",
    "                    or (rangle == 2 and (gradient[x, y - 1] > mag or gradient[x, y + 1] > mag))\n",
    "                    or (rangle == 3 and (gradient[x + 1, y - 1] > mag or gradient[x - 1, y + 1] > mag))):\n",
    "                gradient[x, y] = 0\n",
    "\n",
    "\n",
    "def filter_strong_edges(gradient, width, height, low, high):\n",
    "    # Keep strong edges\n",
    "    keep = set()\n",
    "    for x in range(width):\n",
    "        for y in range(height):\n",
    "            if gradient[x, y] > high:\n",
    "                keep.add((x, y))\n",
    "\n",
    "    # Keep weak edges next to a pixel to keep\n",
    "    lastiter = keep\n",
    "    while lastiter:\n",
    "        newkeep = set()\n",
    "        for x, y in lastiter:\n",
    "            for a, b in ((-1, -1), (-1, 0), (-1, 1), (0, -1), (0, 1), (1, -1), (1, 0), (1, 1)):\n",
    "                if gradient[x + a, y + b] > low and (x+a, y+b) not in keep:\n",
    "                    newkeep.add((x+a, y+b))\n",
    "        keep.update(newkeep)\n",
    "        lastiter = newkeep\n",
    "\n",
    "    return list(keep)\n",
    "\n",
    "\n",
    "if __name__ == \"__main__\":\n",
    "    from PIL import Image, ImageDraw\n",
    "    import cv2\n",
    "    input_image = cv2.imread(\"input.png\")\n",
    "    output_image = np.zeros(input_image.shape)\n",
    "#     draw = ImageDraw.Draw(output_image)\n",
    "    output = cv2.Canny(input_image,100,150)\n",
    "    plt.imshow(output,\"gray\")\n",
    "#     for x, y in canny_edge_detector(input_image):\n",
    "#         draw.point((x, y), (255, 255, 255))\n",
    "#     output_image.save(\"canny.png\")"
   ]
  },
  {
   "cell_type": "code",
   "execution_count": 7,
   "metadata": {},
   "outputs": [],
   "source": [
    "import cv2\n",
    "from matplotlib import pyplot as plt\n",
    "img = cv2.imread('canny.png')"
   ]
  },
  {
   "cell_type": "code",
   "execution_count": 11,
   "metadata": {},
   "outputs": [
    {
     "data": {
      "text/plain": [
       "array([  0, 255], dtype=uint8)"
      ]
     },
     "execution_count": 11,
     "metadata": {},
     "output_type": "execute_result"
    }
   ],
   "source": [
    "np.amax(img)\n",
    "np.unique(img)"
   ]
  },
  {
   "cell_type": "code",
   "execution_count": 10,
   "metadata": {},
   "outputs": [
    {
     "data": {
      "image/png": "[encoded data removed]",
      "text/plain": [
       "<Figure size 432x288 with 1 Axes>"
      ]
     },
     "metadata": {
      "needs_background": "light"
     },
     "output_type": "display_data"
    }
   ],
   "source": [
    "plt.hist(img.ravel(), 256, [0,256])\n",
    "plt.show()"
   ]
  },
  {
   "cell_type": "code",
   "execution_count": null,
   "metadata": {},
   "outputs": [],
   "source": []
  }
 ],
 "metadata": {
  "kernelspec": {
   "display_name": "Python 3",
   "language": "python",
   "name": "python3"
  },
  "language_info": {
   "codemirror_mode": {
    "name": "ipython",
    "version": 3
   },
   "file_extension": ".py",
   "mimetype": "text/x-python",
   "name": "python",
   "nbconvert_exporter": "python",
   "pygments_lexer": "ipython3",
   "version": "3.6.8"
  }
 },
 "nbformat": 4,
 "nbformat_minor": 2
}
