{
 "cells": [
  {
   "cell_type": "markdown",
   "metadata": {},
   "source": [
    "1. If we make MSB bits zero then the maximum intensity will be 127 so histogram of that images lies between 0 & 127\n"
   ]
  },
  {
   "cell_type": "markdown",
   "metadata": {},
   "source": [
    "2. If we keep LSB bits zero then histogram will have only even values"
   ]
  },
  {
   "cell_type": "markdown",
   "metadata": {},
   "source": [
    "3. A packet contains 10 bits (1 byte + 1 start bit + 1 stop bit)\n",
    "    56K baud = 56 * 1000 bits/s = 5600 packets/s\n",
    "    512*512 image contains 262144 bytes => It requires 262144 packets \n",
    "    time = 262144/5600 = 46.8 seconds\n",
    "    \n",
    "    for 30K baud link time = 262144/300000 = 0.8738 seconds"
   ]
  }
 ],
 "metadata": {
  "kernelspec": {
   "display_name": "Python 3",
   "language": "python",
   "name": "python3"
  },
  "language_info": {
   "codemirror_mode": {
    "name": "ipython",
    "version": 3
   },
   "file_extension": ".py",
   "mimetype": "text/x-python",
   "name": "python",
   "nbconvert_exporter": "python",
   "pygments_lexer": "ipython3",
   "version": "3.6.8"
  }
 },
 "nbformat": 4,
 "nbformat_minor": 2
}
